{
 "cells": [
  {
   "cell_type": "code",
   "execution_count": 1,
   "metadata": {},
   "outputs": [],
   "source": [
    "import os"
   ]
  },
  {
   "cell_type": "code",
   "execution_count": 27,
   "metadata": {},
   "outputs": [],
   "source": [
    "import pandas as pd\n",
    "import numpy as np"
   ]
  },
  {
   "cell_type": "code",
   "execution_count": 75,
   "metadata": {},
   "outputs": [],
   "source": [
    "fnames = [x for x in os.listdir() if x.endswith('csv')]"
   ]
  },
  {
   "cell_type": "code",
   "execution_count": 76,
   "metadata": {},
   "outputs": [
    {
     "data": {
      "text/plain": [
       "['combined.csv',\n",
       " 'config-blobs-1-results.csv',\n",
       " 'config-blobs-2-results.csv',\n",
       " 'config-blobs-3-results.csv',\n",
       " 'config-xor-bad-10-2props-1w-results.csv',\n",
       " 'config-xor-bad-11-2props-2w-results.csv',\n",
       " 'config-xor-bad-6-results.csv',\n",
       " 'config-xor-bad-7-results.csv',\n",
       " 'config-xor-bad-8-samples-first-prop-2-weight-combs-results.csv']"
      ]
     },
     "execution_count": 76,
     "metadata": {},
     "output_type": "execute_result"
    }
   ],
   "source": [
    "sorted(fnames, reverse=False)"
   ]
  },
  {
   "cell_type": "code",
   "execution_count": 80,
   "metadata": {},
   "outputs": [],
   "source": [
    "dfs = {}\n",
    "for name in fnames:\n",
    "    dfs[name] = pd.read_csv(name)"
   ]
  },
  {
   "cell_type": "code",
   "execution_count": 78,
   "metadata": {},
   "outputs": [
    {
     "data": {
      "text/plain": [
       "dict_keys(['config-xor-bad-7-results.csv', 'config-xor-bad-6-results.csv', 'combined.csv', 'config-xor-bad-8-samples-first-prop-2-weight-combs-results.csv', 'config-blobs-3-results.csv', 'config-xor-bad-11-2props-2w-results.csv', 'config-xor-bad-10-2props-1w-results.csv', 'config-blobs-1-results.csv', 'config-blobs-2-results.csv'])"
      ]
     },
     "execution_count": 78,
     "metadata": {},
     "output_type": "execute_result"
    }
   ],
   "source": [
    "dfs.keys()"
   ]
  },
  {
   "cell_type": "code",
   "execution_count": 7,
   "metadata": {
    "pycharm": {
     "name": "#%%\n"
    }
   },
   "outputs": [
    {
     "name": "stderr",
     "output_type": "stream",
     "text": [
      "/usr/local/lib/python3.5/dist-packages/pandas/core/ops.py:1649: FutureWarning: elementwise comparison failed; returning scalar instead, but in the future will perform elementwise comparison\n",
      "  result = method(y)\n"
     ]
    },
    {
     "data": {
      "text/html": [
       "<div>\n",
       "<style scoped>\n",
       "    .dataframe tbody tr th:only-of-type {\n",
       "        vertical-align: middle;\n",
       "    }\n",
       "\n",
       "    .dataframe tbody tr th {\n",
       "        vertical-align: top;\n",
       "    }\n",
       "\n",
       "    .dataframe thead th {\n",
       "        text-align: right;\n",
       "    }\n",
       "</style>\n",
       "<table border=\"1\" class=\"dataframe\">\n",
       "  <thead>\n",
       "    <tr style=\"text-align: right;\">\n",
       "      <th></th>\n",
       "      <th>exp_id</th>\n",
       "      <th>avg_acc_before</th>\n",
       "      <th>avg_acc_after</th>\n",
       "      <th>time</th>\n",
       "      <th>Props</th>\n",
       "      <th>Heuristic</th>\n",
       "      <th>NumConstraints</th>\n",
       "      <th>Threshold</th>\n",
       "      <th>NNHidden</th>\n",
       "      <th>Params</th>\n",
       "      <th>Free</th>\n",
       "      <th>WeightsConfig</th>\n",
       "      <th>extra_params</th>\n",
       "    </tr>\n",
       "  </thead>\n",
       "  <tbody>\n",
       "  </tbody>\n",
       "</table>\n",
       "</div>"
      ],
      "text/plain": [
       "Empty DataFrame\n",
       "Columns: [exp_id, avg_acc_before, avg_acc_after, time, Props, Heuristic, NumConstraints, Threshold, NNHidden, Params, Free, WeightsConfig, extra_params]\n",
       "Index: []"
      ]
     },
     "execution_count": 7,
     "metadata": {},
     "output_type": "execute_result"
    }
   ],
   "source": [
    "mask = dfs['config-xor-bad-6-results.csv']['time'] == 'timeout'\n",
    "dfs['config-xor-bad-6-results.csv'][mask]"
   ]
  },
  {
   "cell_type": "code",
   "execution_count": 40,
   "metadata": {},
   "outputs": [],
   "source": [
    "from collections import OrderedDict\n",
    "def agg_groups(df, key, skipped=False):\n",
    "    res = []\n",
    "    groups = df.groupby(key)\n",
    "    for name, group in groups:\n",
    "        print(name)\n",
    "        _curr = {\n",
    "            key: name,\n",
    "            'N': len(group),\n",
    "            'SoftConstraints': pd.to_numeric(group['NumConstraints'], errors='coerce').unique()[0],\n",
    "            #'Thresholds': pd.to_numeric(group['Threshold'], errors='coerce').unique(),\n",
    "            'AccBefore': pd.to_numeric(group['avg_acc_before'], errors='coerce').mean(),\n",
    "            'MaxAcc': pd.to_numeric(group['avg_acc_after'], errors='coerce').max(),\n",
    "            'MinAcc': pd.to_numeric(group['avg_acc_after'], errors='coerce').min(),\n",
    "            'AvgAcc': pd.to_numeric(group['avg_acc_after'], errors='coerce').mean(),\n",
    "            'SAT': pd.to_numeric(group['avg_acc_after'], errors='coerce').notnull().sum(),\n",
    "            'UNSAT': (group['avg_acc_after']=='unsat').values.sum(),\n",
    "            'Timeout': (group['time']=='timeout').values.sum(),\n",
    "            'TotalSolverTime': int(pd.to_numeric(group['time'], errors='coerce').sum() + (group['time']=='timeout').values.sum()*600),\n",
    "        }\n",
    "        if skipped:\n",
    "            _curr['Skipped'] = (group['time']=='skipped').values.sum()\n",
    "        res.append(_curr)\n",
    "    \n",
    "    cols_order = ['N', 'SoftConstraints', key, 'AccBefore', 'MaxAcc', 'MinAcc', 'AvgAcc', 'SAT', 'UNSAT', 'Timeout', 'TotalSolverTime']\n",
    "    if skipped:\n",
    "        cols_order = cols_order[:-1] + ['Skipped'] + cols_order[-1:]\n",
    "    df = pd.DataFrame(res)[cols_order]\n",
    "    df = df.replace(np.nan, 'NA', regex=True)\n",
    "    return df"
   ]
  },
  {
   "cell_type": "code",
   "execution_count": 41,
   "metadata": {},
   "outputs": [],
   "source": [
    "float_format = \"{0:.5%}\""
   ]
  },
  {
   "cell_type": "markdown",
   "metadata": {
    "pycharm": {
     "name": "#%% md\n"
    }
   },
   "source": [
    "### 1-1-weight comb-1st-property"
   ]
  },
  {
   "cell_type": "code",
   "execution_count": 42,
   "metadata": {
    "pycharm": {
     "name": "#%%\n"
    }
   },
   "outputs": [
    {
     "name": "stdout",
     "output_type": "stream",
     "text": [
      "1\n",
      "325\n",
      "750\n",
      "1000\n",
      "1500\n",
      "1561\n"
     ]
    },
    {
     "name": "stderr",
     "output_type": "stream",
     "text": [
      "/usr/local/lib/python3.5/dist-packages/pandas/core/ops.py:1649: FutureWarning: elementwise comparison failed; returning scalar instead, but in the future will perform elementwise comparison\n",
      "  result = method(y)\n"
     ]
    },
    {
     "data": {
      "text/html": [
       "<div>\n",
       "<style scoped>\n",
       "    .dataframe tbody tr th:only-of-type {\n",
       "        vertical-align: middle;\n",
       "    }\n",
       "\n",
       "    .dataframe tbody tr th {\n",
       "        vertical-align: top;\n",
       "    }\n",
       "\n",
       "    .dataframe thead th {\n",
       "        text-align: right;\n",
       "    }\n",
       "</style>\n",
       "<table border=\"1\" class=\"dataframe\">\n",
       "  <thead>\n",
       "    <tr style=\"text-align: right;\">\n",
       "      <th></th>\n",
       "      <th>N</th>\n",
       "      <th>SoftConstraints</th>\n",
       "      <th>Threshold</th>\n",
       "      <th>AccBefore</th>\n",
       "      <th>MaxAcc</th>\n",
       "      <th>MinAcc</th>\n",
       "      <th>AvgAcc</th>\n",
       "      <th>SAT</th>\n",
       "      <th>UNSAT</th>\n",
       "      <th>Timeout</th>\n",
       "      <th>Skipped</th>\n",
       "      <th>TotalSolverTime</th>\n",
       "    </tr>\n",
       "  </thead>\n",
       "  <tbody>\n",
       "    <tr>\n",
       "      <th>0</th>\n",
       "      <td>22</td>\n",
       "      <td>1562</td>\n",
       "      <td>1</td>\n",
       "      <td>0.995085</td>\n",
       "      <td>0.85964</td>\n",
       "      <td>0.375205</td>\n",
       "      <td>0.663572</td>\n",
       "      <td>9</td>\n",
       "      <td>13</td>\n",
       "      <td>0</td>\n",
       "      <td>0</td>\n",
       "      <td>110</td>\n",
       "    </tr>\n",
       "    <tr>\n",
       "      <th>1</th>\n",
       "      <td>22</td>\n",
       "      <td>1562</td>\n",
       "      <td>325</td>\n",
       "      <td>0.995085</td>\n",
       "      <td>0.842163</td>\n",
       "      <td>0.375205</td>\n",
       "      <td>0.646034</td>\n",
       "      <td>9</td>\n",
       "      <td>13</td>\n",
       "      <td>0</td>\n",
       "      <td>0</td>\n",
       "      <td>70</td>\n",
       "    </tr>\n",
       "    <tr>\n",
       "      <th>2</th>\n",
       "      <td>22</td>\n",
       "      <td>1562</td>\n",
       "      <td>750</td>\n",
       "      <td>0.995085</td>\n",
       "      <td>0.85964</td>\n",
       "      <td>0.495631</td>\n",
       "      <td>0.701734</td>\n",
       "      <td>8</td>\n",
       "      <td>14</td>\n",
       "      <td>0</td>\n",
       "      <td>0</td>\n",
       "      <td>69</td>\n",
       "    </tr>\n",
       "    <tr>\n",
       "      <th>3</th>\n",
       "      <td>22</td>\n",
       "      <td>1562</td>\n",
       "      <td>1000</td>\n",
       "      <td>0.995085</td>\n",
       "      <td>0.86947</td>\n",
       "      <td>0.842163</td>\n",
       "      <td>0.855816</td>\n",
       "      <td>4</td>\n",
       "      <td>18</td>\n",
       "      <td>0</td>\n",
       "      <td>0</td>\n",
       "      <td>57</td>\n",
       "    </tr>\n",
       "    <tr>\n",
       "      <th>4</th>\n",
       "      <td>22</td>\n",
       "      <td>1562</td>\n",
       "      <td>1500</td>\n",
       "      <td>NA</td>\n",
       "      <td>NA</td>\n",
       "      <td>NA</td>\n",
       "      <td>NA</td>\n",
       "      <td>0</td>\n",
       "      <td>22</td>\n",
       "      <td>0</td>\n",
       "      <td>0</td>\n",
       "      <td>58</td>\n",
       "    </tr>\n",
       "    <tr>\n",
       "      <th>5</th>\n",
       "      <td>22</td>\n",
       "      <td>1562</td>\n",
       "      <td>1561</td>\n",
       "      <td>NA</td>\n",
       "      <td>NA</td>\n",
       "      <td>NA</td>\n",
       "      <td>NA</td>\n",
       "      <td>0</td>\n",
       "      <td>22</td>\n",
       "      <td>0</td>\n",
       "      <td>0</td>\n",
       "      <td>34</td>\n",
       "    </tr>\n",
       "  </tbody>\n",
       "</table>\n",
       "</div>"
      ],
      "text/plain": [
       "    N  SoftConstraints  Threshold AccBefore    MaxAcc    MinAcc    AvgAcc  \\\n",
       "0  22             1562          1  0.995085   0.85964  0.375205  0.663572   \n",
       "1  22             1562        325  0.995085  0.842163  0.375205  0.646034   \n",
       "2  22             1562        750  0.995085   0.85964  0.495631  0.701734   \n",
       "3  22             1562       1000  0.995085   0.86947  0.842163  0.855816   \n",
       "4  22             1562       1500        NA        NA        NA        NA   \n",
       "5  22             1562       1561        NA        NA        NA        NA   \n",
       "\n",
       "   SAT  UNSAT  Timeout  Skipped  TotalSolverTime  \n",
       "0    9     13        0        0              110  \n",
       "1    9     13        0        0               70  \n",
       "2    8     14        0        0               69  \n",
       "3    4     18        0        0               57  \n",
       "4    0     22        0        0               58  \n",
       "5    0     22        0        0               34  "
      ]
     },
     "execution_count": 42,
     "metadata": {},
     "output_type": "execute_result"
    }
   ],
   "source": [
    "a1 = agg_groups(dfs['config-xor-bad-6-results.csv'], 'Threshold', skipped=True)\n",
    "a1"
   ]
  },
  {
   "cell_type": "code",
   "execution_count": null,
   "metadata": {},
   "outputs": [],
   "source": []
  },
  {
   "cell_type": "code",
   "execution_count": 43,
   "metadata": {},
   "outputs": [
    {
     "name": "stdout",
     "output_type": "stream",
     "text": [
      "\\begin{tabular}{rrrllllrrrrr}\n",
      "\\toprule\n",
      "  N &  SoftConstraints &  Threshold & AccBefore &    MaxAcc &    MinAcc &    AvgAcc &  SAT &  UNSAT &  Timeout &  Skipped &  TotalSolverTime \\\\\n",
      "\\midrule\n",
      " 22 &             1562 &          1 & 99.50847\\% & 85.96395\\% & 37.52048\\% & 66.35718\\% &    9 &     13 &        0 &        0 &              110 \\\\\n",
      " 22 &             1562 &        325 & 99.50847\\% & 84.21628\\% & 37.52048\\% & 64.60343\\% &    9 &     13 &        0 &        0 &               70 \\\\\n",
      " 22 &             1562 &        750 & 99.50847\\% & 85.96395\\% & 49.56308\\% & 70.17340\\% &    8 &     14 &        0 &        0 &               69 \\\\\n",
      " 22 &             1562 &       1000 & 99.50847\\% & 86.94702\\% & 84.21628\\% & 85.58165\\% &    4 &     18 &        0 &        0 &               57 \\\\\n",
      " 22 &             1562 &       1500 &        NA &        NA &        NA &        NA &    0 &     22 &        0 &        0 &               58 \\\\\n",
      " 22 &             1562 &       1561 &        NA &        NA &        NA &        NA &    0 &     22 &        0 &        0 &               34 \\\\\n",
      "\\bottomrule\n",
      "\\end{tabular}\n",
      "\n"
     ]
    }
   ],
   "source": [
    "print(a1.to_latex(index=False, float_format=float_format.format))"
   ]
  },
  {
   "cell_type": "code",
   "execution_count": 153,
   "metadata": {},
   "outputs": [],
   "source": [
    "#a1.to_csv('1-1-weight comb-1st-property.csv', index=False)"
   ]
  },
  {
   "cell_type": "markdown",
   "metadata": {
    "pycharm": {
     "name": "#%% md\n"
    }
   },
   "source": [
    "### 2-1-weight comb-2nd-property"
   ]
  },
  {
   "cell_type": "code",
   "execution_count": 46,
   "metadata": {
    "pycharm": {
     "name": "#%%\n"
    }
   },
   "outputs": [
    {
     "name": "stdout",
     "output_type": "stream",
     "text": [
      "1\n",
      "325\n",
      "750\n",
      "1000\n",
      "1500\n",
      "1561\n"
     ]
    },
    {
     "name": "stderr",
     "output_type": "stream",
     "text": [
      "/usr/local/lib/python3.5/dist-packages/pandas/core/ops.py:1649: FutureWarning: elementwise comparison failed; returning scalar instead, but in the future will perform elementwise comparison\n",
      "  result = method(y)\n"
     ]
    },
    {
     "data": {
      "text/html": [
       "<div>\n",
       "<style scoped>\n",
       "    .dataframe tbody tr th:only-of-type {\n",
       "        vertical-align: middle;\n",
       "    }\n",
       "\n",
       "    .dataframe tbody tr th {\n",
       "        vertical-align: top;\n",
       "    }\n",
       "\n",
       "    .dataframe thead th {\n",
       "        text-align: right;\n",
       "    }\n",
       "</style>\n",
       "<table border=\"1\" class=\"dataframe\">\n",
       "  <thead>\n",
       "    <tr style=\"text-align: right;\">\n",
       "      <th></th>\n",
       "      <th>N</th>\n",
       "      <th>SoftConstraints</th>\n",
       "      <th>Threshold</th>\n",
       "      <th>AccBefore</th>\n",
       "      <th>MaxAcc</th>\n",
       "      <th>MinAcc</th>\n",
       "      <th>AvgAcc</th>\n",
       "      <th>SAT</th>\n",
       "      <th>UNSAT</th>\n",
       "      <th>Timeout</th>\n",
       "      <th>Skipped</th>\n",
       "      <th>TotalSolverTime</th>\n",
       "    </tr>\n",
       "  </thead>\n",
       "  <tbody>\n",
       "    <tr>\n",
       "      <th>0</th>\n",
       "      <td>22</td>\n",
       "      <td>1562</td>\n",
       "      <td>1</td>\n",
       "      <td>0.995085</td>\n",
       "      <td>0.989896</td>\n",
       "      <td>0.380939</td>\n",
       "      <td>0.742354</td>\n",
       "      <td>10</td>\n",
       "      <td>12</td>\n",
       "      <td>0</td>\n",
       "      <td>0</td>\n",
       "      <td>141</td>\n",
       "    </tr>\n",
       "    <tr>\n",
       "      <th>1</th>\n",
       "      <td>22</td>\n",
       "      <td>1562</td>\n",
       "      <td>325</td>\n",
       "      <td>0.995085</td>\n",
       "      <td>0.979519</td>\n",
       "      <td>0.375205</td>\n",
       "      <td>0.741344</td>\n",
       "      <td>10</td>\n",
       "      <td>12</td>\n",
       "      <td>0</td>\n",
       "      <td>0</td>\n",
       "      <td>75</td>\n",
       "    </tr>\n",
       "    <tr>\n",
       "      <th>2</th>\n",
       "      <td>22</td>\n",
       "      <td>1562</td>\n",
       "      <td>750</td>\n",
       "      <td>0.995085</td>\n",
       "      <td>0.979519</td>\n",
       "      <td>0.498088</td>\n",
       "      <td>0.770647</td>\n",
       "      <td>9</td>\n",
       "      <td>13</td>\n",
       "      <td>0</td>\n",
       "      <td>0</td>\n",
       "      <td>63</td>\n",
       "    </tr>\n",
       "    <tr>\n",
       "      <th>3</th>\n",
       "      <td>22</td>\n",
       "      <td>1562</td>\n",
       "      <td>1000</td>\n",
       "      <td>0.995085</td>\n",
       "      <td>0.979519</td>\n",
       "      <td>0.640907</td>\n",
       "      <td>0.895481</td>\n",
       "      <td>8</td>\n",
       "      <td>14</td>\n",
       "      <td>0</td>\n",
       "      <td>0</td>\n",
       "      <td>68</td>\n",
       "    </tr>\n",
       "    <tr>\n",
       "      <th>4</th>\n",
       "      <td>22</td>\n",
       "      <td>1562</td>\n",
       "      <td>1500</td>\n",
       "      <td>0.995085</td>\n",
       "      <td>0.993173</td>\n",
       "      <td>0.963681</td>\n",
       "      <td>0.975014</td>\n",
       "      <td>4</td>\n",
       "      <td>18</td>\n",
       "      <td>0</td>\n",
       "      <td>0</td>\n",
       "      <td>64</td>\n",
       "    </tr>\n",
       "    <tr>\n",
       "      <th>5</th>\n",
       "      <td>22</td>\n",
       "      <td>1562</td>\n",
       "      <td>1561</td>\n",
       "      <td>NA</td>\n",
       "      <td>NA</td>\n",
       "      <td>NA</td>\n",
       "      <td>NA</td>\n",
       "      <td>0</td>\n",
       "      <td>22</td>\n",
       "      <td>0</td>\n",
       "      <td>0</td>\n",
       "      <td>27</td>\n",
       "    </tr>\n",
       "  </tbody>\n",
       "</table>\n",
       "</div>"
      ],
      "text/plain": [
       "    N  SoftConstraints  Threshold AccBefore    MaxAcc    MinAcc    AvgAcc  \\\n",
       "0  22             1562          1  0.995085  0.989896  0.380939  0.742354   \n",
       "1  22             1562        325  0.995085  0.979519  0.375205  0.741344   \n",
       "2  22             1562        750  0.995085  0.979519  0.498088  0.770647   \n",
       "3  22             1562       1000  0.995085  0.979519  0.640907  0.895481   \n",
       "4  22             1562       1500  0.995085  0.993173  0.963681  0.975014   \n",
       "5  22             1562       1561        NA        NA        NA        NA   \n",
       "\n",
       "   SAT  UNSAT  Timeout  Skipped  TotalSolverTime  \n",
       "0   10     12        0        0              141  \n",
       "1   10     12        0        0               75  \n",
       "2    9     13        0        0               63  \n",
       "3    8     14        0        0               68  \n",
       "4    4     18        0        0               64  \n",
       "5    0     22        0        0               27  "
      ]
     },
     "execution_count": 46,
     "metadata": {},
     "output_type": "execute_result"
    }
   ],
   "source": [
    "a2 = agg_groups(dfs['config-xor-bad-7-results.csv'], 'Threshold', skipped=True)\n",
    "a2"
   ]
  },
  {
   "cell_type": "code",
   "execution_count": 47,
   "metadata": {},
   "outputs": [
    {
     "name": "stdout",
     "output_type": "stream",
     "text": [
      "\\begin{tabular}{rrrllllrrrrr}\n",
      "\\toprule\n",
      "  N &  SoftConstraints &  Threshold & AccBefore &    MaxAcc &    MinAcc &    AvgAcc &  SAT &  UNSAT &  Timeout &  Skipped &  TotalSolverTime \\\\\n",
      "\\midrule\n",
      " 22 &             1562 &          1 & 99.50847\\% & 98.98962\\% & 38.09394\\% & 74.23539\\% &   10 &     12 &        0 &        0 &              141 \\\\\n",
      " 22 &             1562 &        325 & 99.50847\\% & 97.95194\\% & 37.52048\\% & 74.13435\\% &   10 &     12 &        0 &        0 &               75 \\\\\n",
      " 22 &             1562 &        750 & 99.50847\\% & 97.95194\\% & 49.80885\\% & 77.06475\\% &    9 &     13 &        0 &        0 &               63 \\\\\n",
      " 22 &             1562 &       1000 & 99.50847\\% & 97.95194\\% & 64.09066\\% & 89.54806\\% &    8 &     14 &        0 &        0 &               68 \\\\\n",
      " 22 &             1562 &       1500 & 99.50847\\% & 99.31731\\% & 96.36810\\% & 97.50137\\% &    4 &     18 &        0 &        0 &               64 \\\\\n",
      " 22 &             1562 &       1561 &        NA &        NA &        NA &        NA &    0 &     22 &        0 &        0 &               27 \\\\\n",
      "\\bottomrule\n",
      "\\end{tabular}\n",
      "\n"
     ]
    }
   ],
   "source": [
    "print(a2.to_latex(index=False, float_format=float_format.format))"
   ]
  },
  {
   "cell_type": "code",
   "execution_count": 156,
   "metadata": {},
   "outputs": [],
   "source": [
    "#a2.to_csv('2-1-weight comb-2nd-property.csv', index=False)"
   ]
  },
  {
   "cell_type": "markdown",
   "metadata": {
    "pycharm": {
     "name": "#%% md\n"
    }
   },
   "source": [
    "### 3-2-weight comb-1st-property"
   ]
  },
  {
   "cell_type": "code",
   "execution_count": 50,
   "metadata": {
    "pycharm": {
     "name": "#%%\n"
    }
   },
   "outputs": [
    {
     "name": "stdout",
     "output_type": "stream",
     "text": [
      "1.0\n",
      "325.0\n",
      "750.0\n",
      "1000.0\n",
      "1500.0\n"
     ]
    },
    {
     "data": {
      "text/html": [
       "<div>\n",
       "<style scoped>\n",
       "    .dataframe tbody tr th:only-of-type {\n",
       "        vertical-align: middle;\n",
       "    }\n",
       "\n",
       "    .dataframe tbody tr th {\n",
       "        vertical-align: top;\n",
       "    }\n",
       "\n",
       "    .dataframe thead th {\n",
       "        text-align: right;\n",
       "    }\n",
       "</style>\n",
       "<table border=\"1\" class=\"dataframe\">\n",
       "  <thead>\n",
       "    <tr style=\"text-align: right;\">\n",
       "      <th></th>\n",
       "      <th>N</th>\n",
       "      <th>SoftConstraints</th>\n",
       "      <th>Threshold</th>\n",
       "      <th>AccBefore</th>\n",
       "      <th>MaxAcc</th>\n",
       "      <th>MinAcc</th>\n",
       "      <th>AvgAcc</th>\n",
       "      <th>SAT</th>\n",
       "      <th>UNSAT</th>\n",
       "      <th>Timeout</th>\n",
       "      <th>Skipped</th>\n",
       "      <th>TotalSolverTime</th>\n",
       "    </tr>\n",
       "  </thead>\n",
       "  <tbody>\n",
       "    <tr>\n",
       "      <th>0</th>\n",
       "      <td>231</td>\n",
       "      <td>1562</td>\n",
       "      <td>1</td>\n",
       "      <td>0.995085</td>\n",
       "      <td>0.992081</td>\n",
       "      <td>0.337247</td>\n",
       "      <td>0.659105</td>\n",
       "      <td>156</td>\n",
       "      <td>61</td>\n",
       "      <td>14</td>\n",
       "      <td>0</td>\n",
       "      <td>9127</td>\n",
       "    </tr>\n",
       "    <tr>\n",
       "      <th>1</th>\n",
       "      <td>231</td>\n",
       "      <td>1562</td>\n",
       "      <td>325</td>\n",
       "      <td>0.995085</td>\n",
       "      <td>0.991262</td>\n",
       "      <td>0.377389</td>\n",
       "      <td>0.680571</td>\n",
       "      <td>103</td>\n",
       "      <td>0</td>\n",
       "      <td>53</td>\n",
       "      <td>75</td>\n",
       "      <td>42027</td>\n",
       "    </tr>\n",
       "    <tr>\n",
       "      <th>2</th>\n",
       "      <td>231</td>\n",
       "      <td>1562</td>\n",
       "      <td>750</td>\n",
       "      <td>0.995085</td>\n",
       "      <td>0.992627</td>\n",
       "      <td>0.489077</td>\n",
       "      <td>0.713595</td>\n",
       "      <td>92</td>\n",
       "      <td>0</td>\n",
       "      <td>11</td>\n",
       "      <td>128</td>\n",
       "      <td>18004</td>\n",
       "    </tr>\n",
       "    <tr>\n",
       "      <th>3</th>\n",
       "      <td>230</td>\n",
       "      <td>1562</td>\n",
       "      <td>1000</td>\n",
       "      <td>0.995085</td>\n",
       "      <td>0.986073</td>\n",
       "      <td>0.612234</td>\n",
       "      <td>0.805563</td>\n",
       "      <td>74</td>\n",
       "      <td>11</td>\n",
       "      <td>6</td>\n",
       "      <td>139</td>\n",
       "      <td>13321</td>\n",
       "    </tr>\n",
       "    <tr>\n",
       "      <th>4</th>\n",
       "      <td>230</td>\n",
       "      <td>1562</td>\n",
       "      <td>1500</td>\n",
       "      <td>0.995085</td>\n",
       "      <td>0.992627</td>\n",
       "      <td>0.931185</td>\n",
       "      <td>0.969689</td>\n",
       "      <td>18</td>\n",
       "      <td>51</td>\n",
       "      <td>5</td>\n",
       "      <td>156</td>\n",
       "      <td>9529</td>\n",
       "    </tr>\n",
       "  </tbody>\n",
       "</table>\n",
       "</div>"
      ],
      "text/plain": [
       "     N  SoftConstraints  Threshold  AccBefore    MaxAcc    MinAcc    AvgAcc  \\\n",
       "0  231             1562          1   0.995085  0.992081  0.337247  0.659105   \n",
       "1  231             1562        325   0.995085  0.991262  0.377389  0.680571   \n",
       "2  231             1562        750   0.995085  0.992627  0.489077  0.713595   \n",
       "3  230             1562       1000   0.995085  0.986073  0.612234  0.805563   \n",
       "4  230             1562       1500   0.995085  0.992627  0.931185  0.969689   \n",
       "\n",
       "   SAT  UNSAT  Timeout  Skipped  TotalSolverTime  \n",
       "0  156     61       14        0             9127  \n",
       "1  103      0       53       75            42027  \n",
       "2   92      0       11      128            18004  \n",
       "3   74     11        6      139            13321  \n",
       "4   18     51        5      156             9529  "
      ]
     },
     "execution_count": 50,
     "metadata": {},
     "output_type": "execute_result"
    }
   ],
   "source": [
    "a3 = agg_groups(dfs['config-xor-bad-8-samples-first-prop-2-weight-combs-results.csv'], 'Threshold', skipped=True)\n",
    "a3['SoftConstraints'] = int(1562)\n",
    "a3['Threshold'] = a3['Threshold'].astype('int32')\n",
    "a3"
   ]
  },
  {
   "cell_type": "code",
   "execution_count": 51,
   "metadata": {},
   "outputs": [
    {
     "name": "stdout",
     "output_type": "stream",
     "text": [
      "\\begin{tabular}{rrrrrrrrrrrr}\n",
      "\\toprule\n",
      "   N &  SoftConstraints &  Threshold &  AccBefore &    MaxAcc &    MinAcc &    AvgAcc &  SAT &  UNSAT &  Timeout &  Skipped &  TotalSolverTime \\\\\n",
      "\\midrule\n",
      " 231 &             1562 &          1 &  99.50847\\% & 99.20808\\% & 33.72474\\% & 65.91046\\% &  156 &     61 &       14 &        0 &             9127 \\\\\n",
      " 231 &             1562 &        325 &  99.50847\\% & 99.12616\\% & 37.73894\\% & 68.05714\\% &  103 &      0 &       53 &       75 &            42027 \\\\\n",
      " 231 &             1562 &        750 &  99.50847\\% & 99.26270\\% & 48.90770\\% & 71.35950\\% &   92 &      0 &       11 &      128 &            18004 \\\\\n",
      " 230 &             1562 &       1000 &  99.50847\\% & 98.60732\\% & 61.22338\\% & 80.55633\\% &   74 &     11 &        6 &      139 &            13321 \\\\\n",
      " 230 &             1562 &       1500 &  99.50847\\% & 99.26270\\% & 93.11851\\% & 96.96887\\% &   18 &     51 &        5 &      156 &             9529 \\\\\n",
      "\\bottomrule\n",
      "\\end{tabular}\n",
      "\n"
     ]
    }
   ],
   "source": [
    "print(a3.to_latex(index=False, float_format=float_format.format))"
   ]
  },
  {
   "cell_type": "code",
   "execution_count": null,
   "metadata": {},
   "outputs": [],
   "source": [
    "a4"
   ]
  },
  {
   "cell_type": "code",
   "execution_count": 160,
   "metadata": {},
   "outputs": [],
   "source": [
    "#a3.to_csv('3-Selecting multiple weights-neurons-or-layers-2nd-property.csv', index=False)"
   ]
  },
  {
   "cell_type": "markdown",
   "metadata": {
    "pycharm": {
     "name": "#%% md\n"
    }
   },
   "source": [
    "#### 4-2-props-1-weight-combs"
   ]
  },
  {
   "cell_type": "code",
   "execution_count": 53,
   "metadata": {},
   "outputs": [
    {
     "name": "stdout",
     "output_type": "stream",
     "text": [
      "1\n",
      "325\n",
      "750\n",
      "1000\n",
      "1500\n",
      "1561\n"
     ]
    },
    {
     "data": {
      "text/html": [
       "<div>\n",
       "<style scoped>\n",
       "    .dataframe tbody tr th:only-of-type {\n",
       "        vertical-align: middle;\n",
       "    }\n",
       "\n",
       "    .dataframe tbody tr th {\n",
       "        vertical-align: top;\n",
       "    }\n",
       "\n",
       "    .dataframe thead th {\n",
       "        text-align: right;\n",
       "    }\n",
       "</style>\n",
       "<table border=\"1\" class=\"dataframe\">\n",
       "  <thead>\n",
       "    <tr style=\"text-align: right;\">\n",
       "      <th></th>\n",
       "      <th>N</th>\n",
       "      <th>SoftConstraints</th>\n",
       "      <th>Threshold</th>\n",
       "      <th>AccBefore</th>\n",
       "      <th>MaxAcc</th>\n",
       "      <th>MinAcc</th>\n",
       "      <th>AvgAcc</th>\n",
       "      <th>SAT</th>\n",
       "      <th>UNSAT</th>\n",
       "      <th>Timeout</th>\n",
       "      <th>Skipped</th>\n",
       "      <th>TotalSolverTime</th>\n",
       "    </tr>\n",
       "  </thead>\n",
       "  <tbody>\n",
       "    <tr>\n",
       "      <th>0</th>\n",
       "      <td>22</td>\n",
       "      <td>1562</td>\n",
       "      <td>1</td>\n",
       "      <td>0.995085</td>\n",
       "      <td>0.842163</td>\n",
       "      <td>0.375205</td>\n",
       "      <td>0.61065</td>\n",
       "      <td>5</td>\n",
       "      <td>17</td>\n",
       "      <td>0</td>\n",
       "      <td>0</td>\n",
       "      <td>119</td>\n",
       "    </tr>\n",
       "    <tr>\n",
       "      <th>1</th>\n",
       "      <td>22</td>\n",
       "      <td>1562</td>\n",
       "      <td>325</td>\n",
       "      <td>0.995085</td>\n",
       "      <td>0.842163</td>\n",
       "      <td>0.375205</td>\n",
       "      <td>0.610431</td>\n",
       "      <td>5</td>\n",
       "      <td>0</td>\n",
       "      <td>0</td>\n",
       "      <td>17</td>\n",
       "      <td>31</td>\n",
       "    </tr>\n",
       "    <tr>\n",
       "      <th>2</th>\n",
       "      <td>22</td>\n",
       "      <td>1562</td>\n",
       "      <td>750</td>\n",
       "      <td>0.995085</td>\n",
       "      <td>0.842163</td>\n",
       "      <td>0.494539</td>\n",
       "      <td>0.669238</td>\n",
       "      <td>4</td>\n",
       "      <td>1</td>\n",
       "      <td>0</td>\n",
       "      <td>17</td>\n",
       "      <td>27</td>\n",
       "    </tr>\n",
       "    <tr>\n",
       "      <th>3</th>\n",
       "      <td>22</td>\n",
       "      <td>1562</td>\n",
       "      <td>1000</td>\n",
       "      <td>0.995085</td>\n",
       "      <td>0.842163</td>\n",
       "      <td>0.842163</td>\n",
       "      <td>0.842163</td>\n",
       "      <td>2</td>\n",
       "      <td>2</td>\n",
       "      <td>0</td>\n",
       "      <td>18</td>\n",
       "      <td>16</td>\n",
       "    </tr>\n",
       "    <tr>\n",
       "      <th>4</th>\n",
       "      <td>22</td>\n",
       "      <td>1562</td>\n",
       "      <td>1500</td>\n",
       "      <td>NA</td>\n",
       "      <td>NA</td>\n",
       "      <td>NA</td>\n",
       "      <td>NA</td>\n",
       "      <td>0</td>\n",
       "      <td>2</td>\n",
       "      <td>0</td>\n",
       "      <td>20</td>\n",
       "      <td>7</td>\n",
       "    </tr>\n",
       "    <tr>\n",
       "      <th>5</th>\n",
       "      <td>22</td>\n",
       "      <td>1562</td>\n",
       "      <td>1561</td>\n",
       "      <td>NA</td>\n",
       "      <td>NA</td>\n",
       "      <td>NA</td>\n",
       "      <td>NA</td>\n",
       "      <td>0</td>\n",
       "      <td>0</td>\n",
       "      <td>0</td>\n",
       "      <td>22</td>\n",
       "      <td>0</td>\n",
       "    </tr>\n",
       "  </tbody>\n",
       "</table>\n",
       "</div>"
      ],
      "text/plain": [
       "    N  SoftConstraints  Threshold AccBefore    MaxAcc    MinAcc    AvgAcc  \\\n",
       "0  22             1562          1  0.995085  0.842163  0.375205   0.61065   \n",
       "1  22             1562        325  0.995085  0.842163  0.375205  0.610431   \n",
       "2  22             1562        750  0.995085  0.842163  0.494539  0.669238   \n",
       "3  22             1562       1000  0.995085  0.842163  0.842163  0.842163   \n",
       "4  22             1562       1500        NA        NA        NA        NA   \n",
       "5  22             1562       1561        NA        NA        NA        NA   \n",
       "\n",
       "   SAT  UNSAT  Timeout  Skipped  TotalSolverTime  \n",
       "0    5     17        0        0              119  \n",
       "1    5      0        0       17               31  \n",
       "2    4      1        0       17               27  \n",
       "3    2      2        0       18               16  \n",
       "4    0      2        0       20                7  \n",
       "5    0      0        0       22                0  "
      ]
     },
     "execution_count": 53,
     "metadata": {},
     "output_type": "execute_result"
    }
   ],
   "source": [
    "a4 = agg_groups(dfs['config-xor-bad-10-2props-1w-results.csv'], 'Threshold', skipped=True)\n",
    "a4['SoftConstraints'] = int(1562)\n",
    "a4"
   ]
  },
  {
   "cell_type": "code",
   "execution_count": 54,
   "metadata": {},
   "outputs": [
    {
     "name": "stdout",
     "output_type": "stream",
     "text": [
      "\\begin{tabular}{rrrllllrrrrr}\n",
      "\\toprule\n",
      "  N &  SoftConstraints &  Threshold & AccBefore &    MaxAcc &    MinAcc &    AvgAcc &  SAT &  UNSAT &  Timeout &  Skipped &  TotalSolverTime \\\\\n",
      "\\midrule\n",
      " 22 &             1562 &          1 & 99.50847\\% & 84.21628\\% & 37.52048\\% & 61.06499\\% &    5 &     17 &        0 &        0 &              119 \\\\\n",
      " 22 &             1562 &        325 & 99.50847\\% & 84.21628\\% & 37.52048\\% & 61.04315\\% &    5 &      0 &        0 &       17 &               31 \\\\\n",
      " 22 &             1562 &        750 & 99.50847\\% & 84.21628\\% & 49.45385\\% & 66.92381\\% &    4 &      1 &        0 &       17 &               27 \\\\\n",
      " 22 &             1562 &       1000 & 99.50847\\% & 84.21628\\% & 84.21628\\% & 84.21628\\% &    2 &      2 &        0 &       18 &               16 \\\\\n",
      " 22 &             1562 &       1500 &        NA &        NA &        NA &        NA &    0 &      2 &        0 &       20 &                7 \\\\\n",
      " 22 &             1562 &       1561 &        NA &        NA &        NA &        NA &    0 &      0 &        0 &       22 &                0 \\\\\n",
      "\\bottomrule\n",
      "\\end{tabular}\n",
      "\n"
     ]
    }
   ],
   "source": [
    "print(a4.to_latex(index=False, float_format=float_format.format))"
   ]
  },
  {
   "cell_type": "markdown",
   "metadata": {},
   "source": [
    "### 5-2props-2-weights"
   ]
  },
  {
   "cell_type": "code",
   "execution_count": 58,
   "metadata": {},
   "outputs": [
    {
     "name": "stdout",
     "output_type": "stream",
     "text": [
      "1\n",
      "325\n",
      "750\n",
      "1000\n",
      "1500\n"
     ]
    },
    {
     "data": {
      "text/html": [
       "<div>\n",
       "<style scoped>\n",
       "    .dataframe tbody tr th:only-of-type {\n",
       "        vertical-align: middle;\n",
       "    }\n",
       "\n",
       "    .dataframe tbody tr th {\n",
       "        vertical-align: top;\n",
       "    }\n",
       "\n",
       "    .dataframe thead th {\n",
       "        text-align: right;\n",
       "    }\n",
       "</style>\n",
       "<table border=\"1\" class=\"dataframe\">\n",
       "  <thead>\n",
       "    <tr style=\"text-align: right;\">\n",
       "      <th></th>\n",
       "      <th>N</th>\n",
       "      <th>SoftConstraints</th>\n",
       "      <th>Threshold</th>\n",
       "      <th>AccBefore</th>\n",
       "      <th>MaxAcc</th>\n",
       "      <th>MinAcc</th>\n",
       "      <th>AvgAcc</th>\n",
       "      <th>SAT</th>\n",
       "      <th>UNSAT</th>\n",
       "      <th>Timeout</th>\n",
       "      <th>Skipped</th>\n",
       "      <th>TotalSolverTime</th>\n",
       "    </tr>\n",
       "  </thead>\n",
       "  <tbody>\n",
       "    <tr>\n",
       "      <th>0</th>\n",
       "      <td>231</td>\n",
       "      <td>1562</td>\n",
       "      <td>1</td>\n",
       "      <td>0.995085</td>\n",
       "      <td>0.972146</td>\n",
       "      <td>0.200437</td>\n",
       "      <td>0.577172</td>\n",
       "      <td>119</td>\n",
       "      <td>95</td>\n",
       "      <td>14</td>\n",
       "      <td>0</td>\n",
       "      <td>8933</td>\n",
       "    </tr>\n",
       "    <tr>\n",
       "      <th>1</th>\n",
       "      <td>231</td>\n",
       "      <td>1562</td>\n",
       "      <td>325</td>\n",
       "      <td>0.995085</td>\n",
       "      <td>0.904424</td>\n",
       "      <td>0.361551</td>\n",
       "      <td>0.637946</td>\n",
       "      <td>76</td>\n",
       "      <td>0</td>\n",
       "      <td>43</td>\n",
       "      <td>112</td>\n",
       "      <td>34731</td>\n",
       "    </tr>\n",
       "    <tr>\n",
       "      <th>2</th>\n",
       "      <td>231</td>\n",
       "      <td>1562</td>\n",
       "      <td>750</td>\n",
       "      <td>0.995085</td>\n",
       "      <td>0.973512</td>\n",
       "      <td>0.489077</td>\n",
       "      <td>0.682485</td>\n",
       "      <td>65</td>\n",
       "      <td>0</td>\n",
       "      <td>11</td>\n",
       "      <td>155</td>\n",
       "      <td>11555</td>\n",
       "    </tr>\n",
       "    <tr>\n",
       "      <th>3</th>\n",
       "      <td>231</td>\n",
       "      <td>1562</td>\n",
       "      <td>1000</td>\n",
       "      <td>0.995085</td>\n",
       "      <td>0.904424</td>\n",
       "      <td>0.636264</td>\n",
       "      <td>0.809612</td>\n",
       "      <td>40</td>\n",
       "      <td>16</td>\n",
       "      <td>9</td>\n",
       "      <td>166</td>\n",
       "      <td>11202</td>\n",
       "    </tr>\n",
       "    <tr>\n",
       "      <th>4</th>\n",
       "      <td>231</td>\n",
       "      <td>1562</td>\n",
       "      <td>1500</td>\n",
       "      <td>0.995085</td>\n",
       "      <td>0.970508</td>\n",
       "      <td>0.962862</td>\n",
       "      <td>0.966685</td>\n",
       "      <td>2</td>\n",
       "      <td>37</td>\n",
       "      <td>1</td>\n",
       "      <td>191</td>\n",
       "      <td>3676</td>\n",
       "    </tr>\n",
       "  </tbody>\n",
       "</table>\n",
       "</div>"
      ],
      "text/plain": [
       "     N  SoftConstraints  Threshold  AccBefore    MaxAcc    MinAcc    AvgAcc  \\\n",
       "0  231             1562          1   0.995085  0.972146  0.200437  0.577172   \n",
       "1  231             1562        325   0.995085  0.904424  0.361551  0.637946   \n",
       "2  231             1562        750   0.995085  0.973512  0.489077  0.682485   \n",
       "3  231             1562       1000   0.995085  0.904424  0.636264  0.809612   \n",
       "4  231             1562       1500   0.995085  0.970508  0.962862  0.966685   \n",
       "\n",
       "   SAT  UNSAT  Timeout  Skipped  TotalSolverTime  \n",
       "0  119     95       14        0             8933  \n",
       "1   76      0       43      112            34731  \n",
       "2   65      0       11      155            11555  \n",
       "3   40     16        9      166            11202  \n",
       "4    2     37        1      191             3676  "
      ]
     },
     "execution_count": 58,
     "metadata": {},
     "output_type": "execute_result"
    }
   ],
   "source": [
    "a5 = agg_groups(dfs['config-xor-bad-11-2props-2w-results.csv'], 'Threshold', skipped=True)\n",
    "a5['SoftConstraints'] = int(1562)\n",
    "a5"
   ]
  },
  {
   "cell_type": "code",
   "execution_count": 59,
   "metadata": {},
   "outputs": [
    {
     "name": "stdout",
     "output_type": "stream",
     "text": [
      "\\begin{tabular}{rrrrrrrrrrrr}\n",
      "\\toprule\n",
      "   N &  SoftConstraints &  Threshold &  AccBefore &    MaxAcc &    MinAcc &    AvgAcc &  SAT &  UNSAT &  Timeout &  Skipped &  TotalSolverTime \\\\\n",
      "\\midrule\n",
      " 231 &             1562 &          1 &  99.50847\\% & 97.21464\\% & 20.04369\\% & 57.71723\\% &  119 &     95 &       14 &        0 &             8933 \\\\\n",
      " 231 &             1562 &        325 &  99.50847\\% & 90.44238\\% & 36.15511\\% & 63.79459\\% &   76 &      0 &       43 &      112 &            34731 \\\\\n",
      " 231 &             1562 &        750 &  99.50847\\% & 97.35117\\% & 48.90770\\% & 68.24854\\% &   65 &      0 &       11 &      155 &            11555 \\\\\n",
      " 231 &             1562 &       1000 &  99.50847\\% & 90.44238\\% & 63.62643\\% & 80.96122\\% &   40 &     16 &        9 &      166 &            11202 \\\\\n",
      " 231 &             1562 &       1500 &  99.50847\\% & 97.05079\\% & 96.28618\\% & 96.66849\\% &    2 &     37 &        1 &      191 &             3676 \\\\\n",
      "\\bottomrule\n",
      "\\end{tabular}\n",
      "\n"
     ]
    }
   ],
   "source": [
    "print(a5.to_latex(index=False, float_format=float_format.format))"
   ]
  },
  {
   "cell_type": "markdown",
   "metadata": {},
   "source": [
    "### Blobs"
   ]
  },
  {
   "cell_type": "markdown",
   "metadata": {},
   "source": [
    "### 1st prop - 1 weight comb"
   ]
  },
  {
   "cell_type": "code",
   "execution_count": 81,
   "metadata": {},
   "outputs": [
    {
     "data": {
      "text/plain": [
       "(535, 14)"
      ]
     },
     "execution_count": 81,
     "metadata": {},
     "output_type": "execute_result"
    }
   ],
   "source": [
    "dfs['config-blobs-1-results.csv'].shape"
   ]
  },
  {
   "cell_type": "code",
   "execution_count": 82,
   "metadata": {},
   "outputs": [
    {
     "name": "stdout",
     "output_type": "stream",
     "text": [
      "1\n",
      "500\n",
      "1000\n",
      "2000\n",
      "5500\n"
     ]
    },
    {
     "data": {
      "text/html": [
       "<div>\n",
       "<style scoped>\n",
       "    .dataframe tbody tr th:only-of-type {\n",
       "        vertical-align: middle;\n",
       "    }\n",
       "\n",
       "    .dataframe tbody tr th {\n",
       "        vertical-align: top;\n",
       "    }\n",
       "\n",
       "    .dataframe thead th {\n",
       "        text-align: right;\n",
       "    }\n",
       "</style>\n",
       "<table border=\"1\" class=\"dataframe\">\n",
       "  <thead>\n",
       "    <tr style=\"text-align: right;\">\n",
       "      <th></th>\n",
       "      <th>N</th>\n",
       "      <th>SoftConstraints</th>\n",
       "      <th>Threshold</th>\n",
       "      <th>AccBefore</th>\n",
       "      <th>MaxAcc</th>\n",
       "      <th>MinAcc</th>\n",
       "      <th>AvgAcc</th>\n",
       "      <th>SAT</th>\n",
       "      <th>UNSAT</th>\n",
       "      <th>Timeout</th>\n",
       "      <th>Skipped</th>\n",
       "      <th>TotalSolverTime</th>\n",
       "    </tr>\n",
       "  </thead>\n",
       "  <tbody>\n",
       "    <tr>\n",
       "      <th>0</th>\n",
       "      <td>107</td>\n",
       "      <td>6000</td>\n",
       "      <td>1</td>\n",
       "      <td>1.0</td>\n",
       "      <td>0.994364</td>\n",
       "      <td>0.641000</td>\n",
       "      <td>0.895250</td>\n",
       "      <td>48</td>\n",
       "      <td>44</td>\n",
       "      <td>15</td>\n",
       "      <td>0</td>\n",
       "      <td>18968</td>\n",
       "    </tr>\n",
       "    <tr>\n",
       "      <th>1</th>\n",
       "      <td>107</td>\n",
       "      <td>6000</td>\n",
       "      <td>500</td>\n",
       "      <td>1.0</td>\n",
       "      <td>0.994182</td>\n",
       "      <td>0.865091</td>\n",
       "      <td>0.950344</td>\n",
       "      <td>32</td>\n",
       "      <td>0</td>\n",
       "      <td>16</td>\n",
       "      <td>59</td>\n",
       "      <td>11723</td>\n",
       "    </tr>\n",
       "    <tr>\n",
       "      <th>2</th>\n",
       "      <td>107</td>\n",
       "      <td>6000</td>\n",
       "      <td>1000</td>\n",
       "      <td>1.0</td>\n",
       "      <td>0.995000</td>\n",
       "      <td>0.865091</td>\n",
       "      <td>0.941142</td>\n",
       "      <td>32</td>\n",
       "      <td>0</td>\n",
       "      <td>0</td>\n",
       "      <td>75</td>\n",
       "      <td>2046</td>\n",
       "    </tr>\n",
       "    <tr>\n",
       "      <th>3</th>\n",
       "      <td>107</td>\n",
       "      <td>6000</td>\n",
       "      <td>2000</td>\n",
       "      <td>1.0</td>\n",
       "      <td>0.994364</td>\n",
       "      <td>0.864727</td>\n",
       "      <td>0.944440</td>\n",
       "      <td>32</td>\n",
       "      <td>0</td>\n",
       "      <td>0</td>\n",
       "      <td>75</td>\n",
       "      <td>2330</td>\n",
       "    </tr>\n",
       "    <tr>\n",
       "      <th>4</th>\n",
       "      <td>107</td>\n",
       "      <td>6000</td>\n",
       "      <td>5500</td>\n",
       "      <td>1.0</td>\n",
       "      <td>0.993455</td>\n",
       "      <td>0.904909</td>\n",
       "      <td>0.955502</td>\n",
       "      <td>29</td>\n",
       "      <td>3</td>\n",
       "      <td>0</td>\n",
       "      <td>75</td>\n",
       "      <td>3518</td>\n",
       "    </tr>\n",
       "  </tbody>\n",
       "</table>\n",
       "</div>"
      ],
      "text/plain": [
       "     N  SoftConstraints  Threshold  AccBefore    MaxAcc    MinAcc    AvgAcc  \\\n",
       "0  107             6000          1        1.0  0.994364  0.641000  0.895250   \n",
       "1  107             6000        500        1.0  0.994182  0.865091  0.950344   \n",
       "2  107             6000       1000        1.0  0.995000  0.865091  0.941142   \n",
       "3  107             6000       2000        1.0  0.994364  0.864727  0.944440   \n",
       "4  107             6000       5500        1.0  0.993455  0.904909  0.955502   \n",
       "\n",
       "   SAT  UNSAT  Timeout  Skipped  TotalSolverTime  \n",
       "0   48     44       15        0            18968  \n",
       "1   32      0       16       59            11723  \n",
       "2   32      0        0       75             2046  \n",
       "3   32      0        0       75             2330  \n",
       "4   29      3        0       75             3518  "
      ]
     },
     "execution_count": 82,
     "metadata": {},
     "output_type": "execute_result"
    }
   ],
   "source": [
    "a6 = agg_groups(dfs['config-blobs-1-results.csv'], 'Threshold', skipped=True)\n",
    "a6['SoftConstraints'] = int(6000)\n",
    "a6"
   ]
  },
  {
   "cell_type": "code",
   "execution_count": 83,
   "metadata": {},
   "outputs": [
    {
     "name": "stdout",
     "output_type": "stream",
     "text": [
      "\\begin{tabular}{rrrrrrrrrrrr}\n",
      "\\toprule\n",
      "   N &  SoftConstraints &  Threshold &  AccBefore &    MaxAcc &    MinAcc &    AvgAcc &  SAT &  UNSAT &  Timeout &  Skipped &  TotalSolverTime \\\\\n",
      "\\midrule\n",
      " 107 &             6000 &          1 & 100.00000\\% & 99.43636\\% & 64.10000\\% & 89.52500\\% &   48 &     44 &       15 &        0 &            18968 \\\\\n",
      " 107 &             6000 &        500 & 100.00000\\% & 99.41818\\% & 86.50909\\% & 95.03438\\% &   32 &      0 &       16 &       59 &            11723 \\\\\n",
      " 107 &             6000 &       1000 & 100.00000\\% & 99.50000\\% & 86.50909\\% & 94.11420\\% &   32 &      0 &        0 &       75 &             2046 \\\\\n",
      " 107 &             6000 &       2000 & 100.00000\\% & 99.43636\\% & 86.47273\\% & 94.44403\\% &   32 &      0 &        0 &       75 &             2330 \\\\\n",
      " 107 &             6000 &       5500 & 100.00000\\% & 99.34545\\% & 90.49091\\% & 95.55016\\% &   29 &      3 &        0 &       75 &             3518 \\\\\n",
      "\\bottomrule\n",
      "\\end{tabular}\n",
      "\n"
     ]
    }
   ],
   "source": [
    "print(a6.to_latex(index=False, float_format=float_format.format))"
   ]
  },
  {
   "cell_type": "markdown",
   "metadata": {},
   "source": [
    "###  2nd prop - 1 w comb"
   ]
  },
  {
   "cell_type": "code",
   "execution_count": 84,
   "metadata": {},
   "outputs": [
    {
     "name": "stdout",
     "output_type": "stream",
     "text": [
      "1\n",
      "500\n",
      "1000\n",
      "2000\n",
      "5500\n"
     ]
    },
    {
     "data": {
      "text/html": [
       "<div>\n",
       "<style scoped>\n",
       "    .dataframe tbody tr th:only-of-type {\n",
       "        vertical-align: middle;\n",
       "    }\n",
       "\n",
       "    .dataframe tbody tr th {\n",
       "        vertical-align: top;\n",
       "    }\n",
       "\n",
       "    .dataframe thead th {\n",
       "        text-align: right;\n",
       "    }\n",
       "</style>\n",
       "<table border=\"1\" class=\"dataframe\">\n",
       "  <thead>\n",
       "    <tr style=\"text-align: right;\">\n",
       "      <th></th>\n",
       "      <th>N</th>\n",
       "      <th>SoftConstraints</th>\n",
       "      <th>Threshold</th>\n",
       "      <th>AccBefore</th>\n",
       "      <th>MaxAcc</th>\n",
       "      <th>MinAcc</th>\n",
       "      <th>AvgAcc</th>\n",
       "      <th>SAT</th>\n",
       "      <th>UNSAT</th>\n",
       "      <th>Timeout</th>\n",
       "      <th>Skipped</th>\n",
       "      <th>TotalSolverTime</th>\n",
       "    </tr>\n",
       "  </thead>\n",
       "  <tbody>\n",
       "    <tr>\n",
       "      <th>0</th>\n",
       "      <td>143</td>\n",
       "      <td>6000</td>\n",
       "      <td>1</td>\n",
       "      <td>1.0</td>\n",
       "      <td>0.997273</td>\n",
       "      <td>0.511273</td>\n",
       "      <td>0.866613</td>\n",
       "      <td>31</td>\n",
       "      <td>95</td>\n",
       "      <td>17</td>\n",
       "      <td>0</td>\n",
       "      <td>23884</td>\n",
       "    </tr>\n",
       "    <tr>\n",
       "      <th>1</th>\n",
       "      <td>143</td>\n",
       "      <td>6000</td>\n",
       "      <td>500</td>\n",
       "      <td>1.0</td>\n",
       "      <td>0.997273</td>\n",
       "      <td>0.861545</td>\n",
       "      <td>0.927232</td>\n",
       "      <td>18</td>\n",
       "      <td>0</td>\n",
       "      <td>13</td>\n",
       "      <td>112</td>\n",
       "      <td>9573</td>\n",
       "    </tr>\n",
       "    <tr>\n",
       "      <th>2</th>\n",
       "      <td>143</td>\n",
       "      <td>6000</td>\n",
       "      <td>1000</td>\n",
       "      <td>1.0</td>\n",
       "      <td>0.997273</td>\n",
       "      <td>0.863091</td>\n",
       "      <td>0.935980</td>\n",
       "      <td>18</td>\n",
       "      <td>0</td>\n",
       "      <td>0</td>\n",
       "      <td>125</td>\n",
       "      <td>1406</td>\n",
       "    </tr>\n",
       "    <tr>\n",
       "      <th>3</th>\n",
       "      <td>143</td>\n",
       "      <td>6000</td>\n",
       "      <td>2000</td>\n",
       "      <td>1.0</td>\n",
       "      <td>0.997545</td>\n",
       "      <td>0.646727</td>\n",
       "      <td>0.905212</td>\n",
       "      <td>18</td>\n",
       "      <td>0</td>\n",
       "      <td>0</td>\n",
       "      <td>125</td>\n",
       "      <td>1789</td>\n",
       "    </tr>\n",
       "    <tr>\n",
       "      <th>4</th>\n",
       "      <td>143</td>\n",
       "      <td>6000</td>\n",
       "      <td>5500</td>\n",
       "      <td>1.0</td>\n",
       "      <td>0.996364</td>\n",
       "      <td>0.904727</td>\n",
       "      <td>0.945016</td>\n",
       "      <td>17</td>\n",
       "      <td>1</td>\n",
       "      <td>0</td>\n",
       "      <td>125</td>\n",
       "      <td>2580</td>\n",
       "    </tr>\n",
       "  </tbody>\n",
       "</table>\n",
       "</div>"
      ],
      "text/plain": [
       "     N  SoftConstraints  Threshold  AccBefore    MaxAcc    MinAcc    AvgAcc  \\\n",
       "0  143             6000          1        1.0  0.997273  0.511273  0.866613   \n",
       "1  143             6000        500        1.0  0.997273  0.861545  0.927232   \n",
       "2  143             6000       1000        1.0  0.997273  0.863091  0.935980   \n",
       "3  143             6000       2000        1.0  0.997545  0.646727  0.905212   \n",
       "4  143             6000       5500        1.0  0.996364  0.904727  0.945016   \n",
       "\n",
       "   SAT  UNSAT  Timeout  Skipped  TotalSolverTime  \n",
       "0   31     95       17        0            23884  \n",
       "1   18      0       13      112             9573  \n",
       "2   18      0        0      125             1406  \n",
       "3   18      0        0      125             1789  \n",
       "4   17      1        0      125             2580  "
      ]
     },
     "execution_count": 84,
     "metadata": {},
     "output_type": "execute_result"
    }
   ],
   "source": [
    "a7 = agg_groups(dfs['config-blobs-2-results.csv'], 'Threshold', skipped=True)\n",
    "a7['SoftConstraints'] = int(6000)\n",
    "a7"
   ]
  },
  {
   "cell_type": "code",
   "execution_count": 86,
   "metadata": {},
   "outputs": [
    {
     "name": "stdout",
     "output_type": "stream",
     "text": [
      "\\begin{tabular}{rrrrrrrrrrrr}\n",
      "\\toprule\n",
      "   N &  SoftConstraints &  Threshold &  AccBefore &    MaxAcc &    MinAcc &    AvgAcc &  SAT &  UNSAT &  Timeout &  Skipped &  TotalSolverTime \\\\\n",
      "\\midrule\n",
      " 143 &             6000 &          1 & 100.00000\\% & 99.72727\\% & 51.12727\\% & 86.66129\\% &   31 &     95 &       17 &        0 &            23884 \\\\\n",
      " 143 &             6000 &        500 & 100.00000\\% & 99.72727\\% & 86.15455\\% & 92.72323\\% &   18 &      0 &       13 &      112 &             9573 \\\\\n",
      " 143 &             6000 &       1000 & 100.00000\\% & 99.72727\\% & 86.30909\\% & 93.59798\\% &   18 &      0 &        0 &      125 &             1406 \\\\\n",
      " 143 &             6000 &       2000 & 100.00000\\% & 99.75455\\% & 64.67273\\% & 90.52121\\% &   18 &      0 &        0 &      125 &             1789 \\\\\n",
      " 143 &             6000 &       5500 & 100.00000\\% & 99.63636\\% & 90.47273\\% & 94.50160\\% &   17 &      1 &        0 &      125 &             2580 \\\\\n",
      "\\bottomrule\n",
      "\\end{tabular}\n",
      "\n"
     ]
    }
   ],
   "source": [
    "print(a7.to_latex(index=False, float_format=float_format.format))"
   ]
  },
  {
   "cell_type": "code",
   "execution_count": 87,
   "metadata": {},
   "outputs": [
    {
     "name": "stdout",
     "output_type": "stream",
     "text": [
      "1\n",
      "500\n",
      "1000\n",
      "2000\n",
      "5500\n"
     ]
    },
    {
     "data": {
      "text/html": [
       "<div>\n",
       "<style scoped>\n",
       "    .dataframe tbody tr th:only-of-type {\n",
       "        vertical-align: middle;\n",
       "    }\n",
       "\n",
       "    .dataframe tbody tr th {\n",
       "        vertical-align: top;\n",
       "    }\n",
       "\n",
       "    .dataframe thead th {\n",
       "        text-align: right;\n",
       "    }\n",
       "</style>\n",
       "<table border=\"1\" class=\"dataframe\">\n",
       "  <thead>\n",
       "    <tr style=\"text-align: right;\">\n",
       "      <th></th>\n",
       "      <th>N</th>\n",
       "      <th>SoftConstraints</th>\n",
       "      <th>Threshold</th>\n",
       "      <th>AccBefore</th>\n",
       "      <th>MaxAcc</th>\n",
       "      <th>MinAcc</th>\n",
       "      <th>AvgAcc</th>\n",
       "      <th>SAT</th>\n",
       "      <th>UNSAT</th>\n",
       "      <th>Timeout</th>\n",
       "      <th>Skipped</th>\n",
       "      <th>TotalSolverTime</th>\n",
       "    </tr>\n",
       "  </thead>\n",
       "  <tbody>\n",
       "    <tr>\n",
       "      <th>0</th>\n",
       "      <td>45</td>\n",
       "      <td>6000</td>\n",
       "      <td>1</td>\n",
       "      <td>1.0</td>\n",
       "      <td>0.994909</td>\n",
       "      <td>0.624545</td>\n",
       "      <td>0.891556</td>\n",
       "      <td>33</td>\n",
       "      <td>12</td>\n",
       "      <td>0</td>\n",
       "      <td>0</td>\n",
       "      <td>5137</td>\n",
       "    </tr>\n",
       "    <tr>\n",
       "      <th>1</th>\n",
       "      <td>45</td>\n",
       "      <td>6000</td>\n",
       "      <td>500</td>\n",
       "      <td>1.0</td>\n",
       "      <td>0.991091</td>\n",
       "      <td>0.741636</td>\n",
       "      <td>0.932626</td>\n",
       "      <td>9</td>\n",
       "      <td>0</td>\n",
       "      <td>24</td>\n",
       "      <td>12</td>\n",
       "      <td>15823</td>\n",
       "    </tr>\n",
       "    <tr>\n",
       "      <th>2</th>\n",
       "      <td>45</td>\n",
       "      <td>6000</td>\n",
       "      <td>1000</td>\n",
       "      <td>1.0</td>\n",
       "      <td>0.995636</td>\n",
       "      <td>0.863091</td>\n",
       "      <td>0.930864</td>\n",
       "      <td>4</td>\n",
       "      <td>0</td>\n",
       "      <td>5</td>\n",
       "      <td>36</td>\n",
       "      <td>3477</td>\n",
       "    </tr>\n",
       "    <tr>\n",
       "      <th>3</th>\n",
       "      <td>45</td>\n",
       "      <td>6000</td>\n",
       "      <td>2000</td>\n",
       "      <td>1.0</td>\n",
       "      <td>0.868909</td>\n",
       "      <td>0.863091</td>\n",
       "      <td>0.865545</td>\n",
       "      <td>3</td>\n",
       "      <td>0</td>\n",
       "      <td>1</td>\n",
       "      <td>41</td>\n",
       "      <td>747</td>\n",
       "    </tr>\n",
       "    <tr>\n",
       "      <th>4</th>\n",
       "      <td>45</td>\n",
       "      <td>6000</td>\n",
       "      <td>5500</td>\n",
       "      <td>1.0</td>\n",
       "      <td>0.988182</td>\n",
       "      <td>0.973545</td>\n",
       "      <td>0.982364</td>\n",
       "      <td>3</td>\n",
       "      <td>0</td>\n",
       "      <td>0</td>\n",
       "      <td>42</td>\n",
       "      <td>638</td>\n",
       "    </tr>\n",
       "  </tbody>\n",
       "</table>\n",
       "</div>"
      ],
      "text/plain": [
       "    N  SoftConstraints  Threshold  AccBefore    MaxAcc    MinAcc    AvgAcc  \\\n",
       "0  45             6000          1        1.0  0.994909  0.624545  0.891556   \n",
       "1  45             6000        500        1.0  0.991091  0.741636  0.932626   \n",
       "2  45             6000       1000        1.0  0.995636  0.863091  0.930864   \n",
       "3  45             6000       2000        1.0  0.868909  0.863091  0.865545   \n",
       "4  45             6000       5500        1.0  0.988182  0.973545  0.982364   \n",
       "\n",
       "   SAT  UNSAT  Timeout  Skipped  TotalSolverTime  \n",
       "0   33     12        0        0             5137  \n",
       "1    9      0       24       12            15823  \n",
       "2    4      0        5       36             3477  \n",
       "3    3      0        1       41              747  \n",
       "4    3      0        0       42              638  "
      ]
     },
     "execution_count": 87,
     "metadata": {},
     "output_type": "execute_result"
    }
   ],
   "source": [
    "a8 = agg_groups(dfs['config-blobs-3-results.csv'], 'Threshold', skipped=True)\n",
    "a8['SoftConstraints'] = int(6000)\n",
    "a8"
   ]
  },
  {
   "cell_type": "code",
   "execution_count": 88,
   "metadata": {},
   "outputs": [
    {
     "name": "stdout",
     "output_type": "stream",
     "text": [
      "\\begin{tabular}{rrrrrrrrrrrr}\n",
      "\\toprule\n",
      "  N &  SoftConstraints &  Threshold &  AccBefore &    MaxAcc &    MinAcc &    AvgAcc &  SAT &  UNSAT &  Timeout &  Skipped &  TotalSolverTime \\\\\n",
      "\\midrule\n",
      " 45 &             6000 &          1 & 100.00000\\% & 99.49091\\% & 62.45455\\% & 89.15565\\% &   33 &     12 &        0 &        0 &             5137 \\\\\n",
      " 45 &             6000 &        500 & 100.00000\\% & 99.10909\\% & 74.16364\\% & 93.26263\\% &    9 &      0 &       24 &       12 &            15823 \\\\\n",
      " 45 &             6000 &       1000 & 100.00000\\% & 99.56364\\% & 86.30909\\% & 93.08636\\% &    4 &      0 &        5 &       36 &             3477 \\\\\n",
      " 45 &             6000 &       2000 & 100.00000\\% & 86.89091\\% & 86.30909\\% & 86.55455\\% &    3 &      0 &        1 &       41 &              747 \\\\\n",
      " 45 &             6000 &       5500 & 100.00000\\% & 98.81818\\% & 97.35455\\% & 98.23636\\% &    3 &      0 &        0 &       42 &              638 \\\\\n",
      "\\bottomrule\n",
      "\\end{tabular}\n",
      "\n"
     ]
    }
   ],
   "source": [
    "print(a8.to_latex(index=False, float_format=float_format.format))"
   ]
  },
  {
   "cell_type": "markdown",
   "metadata": {},
   "source": [
    "### Combined"
   ]
  },
  {
   "cell_type": "code",
   "execution_count": 206,
   "metadata": {},
   "outputs": [],
   "source": [
    "for name, df in dfs.items():\n",
    "    df['source'] = name.split('.')[0]\n",
    "    alldfs = alldfs.append(df)"
   ]
  },
  {
   "cell_type": "code",
   "execution_count": 207,
   "metadata": {},
   "outputs": [],
   "source": [
    "alldfs = alldfs.set_index(['source', 'exp_id'])"
   ]
  },
  {
   "cell_type": "code",
   "execution_count": 208,
   "metadata": {},
   "outputs": [
    {
     "data": {
      "text/html": [
       "<div>\n",
       "<style scoped>\n",
       "    .dataframe tbody tr th:only-of-type {\n",
       "        vertical-align: middle;\n",
       "    }\n",
       "\n",
       "    .dataframe tbody tr th {\n",
       "        vertical-align: top;\n",
       "    }\n",
       "\n",
       "    .dataframe thead th {\n",
       "        text-align: right;\n",
       "    }\n",
       "</style>\n",
       "<table border=\"1\" class=\"dataframe\">\n",
       "  <thead>\n",
       "    <tr style=\"text-align: right;\">\n",
       "      <th></th>\n",
       "      <th></th>\n",
       "      <th>avg_acc_before</th>\n",
       "      <th>avg_acc_after</th>\n",
       "      <th>time</th>\n",
       "      <th>Props</th>\n",
       "      <th>Heuristic</th>\n",
       "      <th>NumConstraints</th>\n",
       "      <th>Threshold</th>\n",
       "      <th>NNHidden</th>\n",
       "      <th>Params</th>\n",
       "      <th>Free</th>\n",
       "      <th>WeightsConfig</th>\n",
       "      <th>extra_params</th>\n",
       "    </tr>\n",
       "    <tr>\n",
       "      <th>source</th>\n",
       "      <th>exp_id</th>\n",
       "      <th></th>\n",
       "      <th></th>\n",
       "      <th></th>\n",
       "      <th></th>\n",
       "      <th></th>\n",
       "      <th></th>\n",
       "      <th></th>\n",
       "      <th></th>\n",
       "      <th></th>\n",
       "      <th></th>\n",
       "      <th></th>\n",
       "      <th></th>\n",
       "    </tr>\n",
       "  </thead>\n",
       "  <tbody>\n",
       "    <tr>\n",
       "      <th rowspan=\"5\" valign=\"top\">config-xor-bad-1-results</th>\n",
       "      <th>1</th>\n",
       "      <td>0.995085</td>\n",
       "      <td>0.650464</td>\n",
       "      <td>0.2746</td>\n",
       "      <td>1</td>\n",
       "      <td>SAMPLES</td>\n",
       "      <td>450</td>\n",
       "      <td>1</td>\n",
       "      <td>[4]</td>\n",
       "      <td>22</td>\n",
       "      <td>5</td>\n",
       "      <td>{'select_neuron': [[2, 1]]}</td>\n",
       "      <td>NaN</td>\n",
       "    </tr>\n",
       "    <tr>\n",
       "      <th>2</th>\n",
       "      <td>0.995085</td>\n",
       "      <td>0.981704</td>\n",
       "      <td>30.4846</td>\n",
       "      <td>1</td>\n",
       "      <td>SAMPLES</td>\n",
       "      <td>450</td>\n",
       "      <td>250</td>\n",
       "      <td>[4]</td>\n",
       "      <td>22</td>\n",
       "      <td>5</td>\n",
       "      <td>{'select_neuron': [[2, 1]]}</td>\n",
       "      <td>NaN</td>\n",
       "    </tr>\n",
       "    <tr>\n",
       "      <th>3</th>\n",
       "      <td>0.995085</td>\n",
       "      <td>0.981704</td>\n",
       "      <td>3.0699</td>\n",
       "      <td>1</td>\n",
       "      <td>SAMPLES</td>\n",
       "      <td>450</td>\n",
       "      <td>400</td>\n",
       "      <td>[4]</td>\n",
       "      <td>22</td>\n",
       "      <td>5</td>\n",
       "      <td>{'select_neuron': [[2, 1]]}</td>\n",
       "      <td>NaN</td>\n",
       "    </tr>\n",
       "    <tr>\n",
       "      <th>4</th>\n",
       "      <td>0.995085</td>\n",
       "      <td>0.649918</td>\n",
       "      <td>0.3767</td>\n",
       "      <td>1</td>\n",
       "      <td>SAMPLES</td>\n",
       "      <td>450</td>\n",
       "      <td>1</td>\n",
       "      <td>[4]</td>\n",
       "      <td>22</td>\n",
       "      <td>5</td>\n",
       "      <td>{'select_neuron': [[2, 2]]}</td>\n",
       "      <td>NaN</td>\n",
       "    </tr>\n",
       "    <tr>\n",
       "      <th>5</th>\n",
       "      <td>0.995085</td>\n",
       "      <td>0.979792</td>\n",
       "      <td>4.3493</td>\n",
       "      <td>1</td>\n",
       "      <td>SAMPLES</td>\n",
       "      <td>450</td>\n",
       "      <td>250</td>\n",
       "      <td>[4]</td>\n",
       "      <td>22</td>\n",
       "      <td>5</td>\n",
       "      <td>{'select_neuron': [[2, 2]]}</td>\n",
       "      <td>NaN</td>\n",
       "    </tr>\n",
       "  </tbody>\n",
       "</table>\n",
       "</div>"
      ],
      "text/plain": [
       "                                avg_acc_before avg_acc_after     time  Props  \\\n",
       "source                   exp_id                                                \n",
       "config-xor-bad-1-results 1            0.995085      0.650464   0.2746      1   \n",
       "                         2            0.995085      0.981704  30.4846      1   \n",
       "                         3            0.995085      0.981704   3.0699      1   \n",
       "                         4            0.995085      0.649918   0.3767      1   \n",
       "                         5            0.995085      0.979792   4.3493      1   \n",
       "\n",
       "                                Heuristic  NumConstraints  Threshold NNHidden  \\\n",
       "source                   exp_id                                                 \n",
       "config-xor-bad-1-results 1        SAMPLES             450          1      [4]   \n",
       "                         2        SAMPLES             450        250      [4]   \n",
       "                         3        SAMPLES             450        400      [4]   \n",
       "                         4        SAMPLES             450          1      [4]   \n",
       "                         5        SAMPLES             450        250      [4]   \n",
       "\n",
       "                                 Params  Free                WeightsConfig  \\\n",
       "source                   exp_id                                              \n",
       "config-xor-bad-1-results 1           22     5  {'select_neuron': [[2, 1]]}   \n",
       "                         2           22     5  {'select_neuron': [[2, 1]]}   \n",
       "                         3           22     5  {'select_neuron': [[2, 1]]}   \n",
       "                         4           22     5  {'select_neuron': [[2, 2]]}   \n",
       "                         5           22     5  {'select_neuron': [[2, 2]]}   \n",
       "\n",
       "                                extra_params  \n",
       "source                   exp_id               \n",
       "config-xor-bad-1-results 1               NaN  \n",
       "                         2               NaN  \n",
       "                         3               NaN  \n",
       "                         4               NaN  \n",
       "                         5               NaN  "
      ]
     },
     "execution_count": 208,
     "metadata": {},
     "output_type": "execute_result"
    }
   ],
   "source": [
    "alldfs.head()"
   ]
  },
  {
   "cell_type": "code",
   "execution_count": null,
   "metadata": {},
   "outputs": [],
   "source": []
  },
  {
   "cell_type": "code",
   "execution_count": 210,
   "metadata": {},
   "outputs": [],
   "source": [
    "alldfs.to_csv('combined.csv')"
   ]
  },
  {
   "cell_type": "code",
   "execution_count": null,
   "metadata": {},
   "outputs": [],
   "source": []
  }
 ],
 "metadata": {
  "kernelspec": {
   "display_name": "Python 3",
   "language": "python",
   "name": "python3"
  },
  "language_info": {
   "codemirror_mode": {
    "name": "ipython",
    "version": 3
   },
   "file_extension": ".py",
   "mimetype": "text/x-python",
   "name": "python",
   "nbconvert_exporter": "python",
   "pygments_lexer": "ipython3",
   "version": "3.5.2"
  }
 },
 "nbformat": 4,
 "nbformat_minor": 5
}
